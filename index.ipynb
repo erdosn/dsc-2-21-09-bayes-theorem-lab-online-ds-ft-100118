{
 "cells": [
  {
   "cell_type": "markdown",
   "metadata": {},
   "source": [
    "# Bayes' Theorem - Lab\n",
    "\n",
    "## Introduction\n",
    "\n",
    "In this lab, we shall try to put some of the formulas to practice that we came across with in the previous lesson. \n",
    "\n",
    "## Objectives\n",
    "* Describe the Bayesian theorem from conditional probabilities\n",
    "    * Conditional stuff - looking at the probability based on prior information\n",
    "* Describe the roles of Prior, Likehood and Posterior components of Bayes Theorem \n",
    "    * What does the given do? Modifies the probablity space\n",
    "* Apply Bayes Theorem to solve probability problems.\n",
    "    * We did that thang\n",
    "    \n",
    "* Easier than other types of probabilities"
   ]
  },
  {
   "cell_type": "markdown",
   "metadata": {},
   "source": [
    "# Outline\n",
    "* Warm Up with Probability work in groups\n",
    "* Go over the warm up\n",
    "* Go throug the Baye's Theorem Lab (Me talking through the problems)\n",
    "* Y'all are will solve problems in groups\n",
    "* go over the BT problems\n",
    "* Wrap up"
   ]
  },
  {
   "cell_type": "markdown",
   "metadata": {},
   "source": [
    "## Exercise 1\n",
    "### If a single card is drawn from a standard deck of playing cards, What is the probability of seeing a king ?"
   ]
  },
  {
   "cell_type": "code",
   "execution_count": 21,
   "metadata": {},
   "outputs": [
    {
     "data": {
      "text/plain": [
       "0.07692307692307693"
      ]
     },
     "execution_count": 21,
     "metadata": {},
     "output_type": "execute_result"
    }
   ],
   "source": [
    "# Your solution\n",
    "4/52"
   ]
  },
  {
   "cell_type": "markdown",
   "metadata": {},
   "source": [
    "### If evidence is provided (for instance, someone looks at the card) that the single card is a **face card**, what would be the posterior probability according to Bayes theorem?"
   ]
  },
  {
   "cell_type": "code",
   "execution_count": 22,
   "metadata": {},
   "outputs": [
    {
     "name": "stdout",
     "output_type": "stream",
     "text": [
      "0.3333333333333333\n",
      "0.3333333333333333\n"
     ]
    }
   ],
   "source": [
    "# Your Solution\n",
    "# Given creates/modifies the probability space\n",
    "# all 52 cards\n",
    "# given = face card -> 12\n",
    "# (12/52) -> posterior probablity\n",
    "\n",
    "print(4/12) # kings/(modified probability space)\n",
    "\n",
    "print((4/52)/(12/52)) # Baye's Theorem"
   ]
  },
  {
   "cell_type": "markdown",
   "metadata": {},
   "source": [
    "## Exercise 2\n",
    "#### 1. A couple has two children, the older of which is a boy. What is the probability that they have two boys?\n",
    "#### 2. A couple has two children, one of which is a boy. What is the probability that they have two boys?"
   ]
  },
  {
   "cell_type": "code",
   "execution_count": 14,
   "metadata": {},
   "outputs": [],
   "source": [
    "# Explain events as:\n",
    "# A = both children are boys\n",
    "# B = older child is a boy \n",
    "# C = One of the children is a boy "
   ]
  },
  {
   "cell_type": "code",
   "execution_count": 24,
   "metadata": {},
   "outputs": [
    {
     "name": "stdout",
     "output_type": "stream",
     "text": [
      "0.5\n",
      "0.5\n"
     ]
    }
   ],
   "source": [
    "# Part 1\n",
    "# Your solution\n",
    "# P(A|B)\n",
    "# GG BG GB BB\n",
    "# adding in the given\n",
    "# BG BB\n",
    "# baye's theorem (p(a)/p(b))\n",
    "print(0.5/1.0)\n",
    "\n",
    "print(1/2)\n"
   ]
  },
  {
   "cell_type": "code",
   "execution_count": 25,
   "metadata": {},
   "outputs": [
    {
     "name": "stdout",
     "output_type": "stream",
     "text": [
      "0.3333333333333333\n",
      "0.3333333333333333\n"
     ]
    }
   ],
   "source": [
    "# Part 2 \n",
    "# Your solution\n",
    "# P(A|C)\n",
    "# GG BG GB BB\n",
    "# modified by given\n",
    "# BG BB GB\n",
    "print(1/3) # modified space\n",
    "\n",
    "print((1/4) / (3/4)) # P(2boys)/P(1boy)"
   ]
  },
  {
   "cell_type": "markdown",
   "metadata": {},
   "source": [
    "## Exercise 3 - Bayesian Disease Diagnosis\n",
    "\n",
    "[Visit this link for an insight into Bayesian Disease Daignosis](http://doingbayesiandataanalysis.blogspot.com/2013/01/bayesian-disease-diagnosis-with.html)\n",
    "\n"
   ]
  },
  {
   "cell_type": "markdown",
   "metadata": {},
   "source": [
    "A disease test is advertised as being 99% accurate \n",
    "\n",
    "* If a patient has the disease,they  will test positive 99% of the time.\n",
    "\n",
    "* If they don't have the disease, they will test negative 99% of the time. \n",
    "\n",
    "* 1% of all people have this disease \n",
    "\n",
    "#### Now a patient tests positive, what is the probability that the patient actually has the disease?"
   ]
  },
  {
   "cell_type": "code",
   "execution_count": 27,
   "metadata": {},
   "outputs": [
    {
     "data": {
      "text/plain": [
       "0.5"
      ]
     },
     "execution_count": 27,
     "metadata": {},
     "output_type": "execute_result"
    }
   ],
   "source": [
    "# By Bayes' Theorem, the probability you have the disease is\n",
    "\n",
    "# P(D|Pos) = P(Pos|D)* P(D) / P(Pos) \n",
    "\n",
    "# P(Pos) is calculated as :\n",
    "# You either have the disease and tested correctly (0.01*0.99), \n",
    "# or you don't have the disease and tested incorrectly (0.99 * 0.01). \n",
    "\n",
    "p_pos = (0.01 * 0.99) + (0.99 * 0.01) # \n",
    "p_pos_dis = 0.99\n",
    "p_dis = 0.01\n",
    "\n",
    "p_pos_dis*p_dis / p_pos"
   ]
  },
  {
   "cell_type": "markdown",
   "metadata": {},
   "source": [
    "## Summary \n",
    "\n",
    "In this lab, we saw a few simple examples of Bayesian logic and how we can add prior information to our calculation, in order to update our beliefs about the certain events. Bayesian logic works in numerous ways and it is not within the scope of this section to give you a deep dive in complex Bayesian problems. You are advised to re-visit the provided links when you have a better understanding of Bayesian inference. "
   ]
  },
  {
   "cell_type": "markdown",
   "metadata": {},
   "source": [
    "# Problem 1 Breakout Room 1\n",
    "You go to see the doctor about an ingrowing toenail. The doctor selects you at random to have\n",
    "a blood test for swine flu, which for the purposes of this exercise we will say is currently suspected\n",
    "to affect 1 in 10,000 people in Australia. The test is 99% accurate, in the sense that the probability\n",
    "of a false positive is 1%. The probability of a false negative is zero. You test positive. What is the\n",
    "new probability that you have swine flu?"
   ]
  },
  {
   "cell_type": "code",
   "execution_count": 28,
   "metadata": {},
   "outputs": [
    {
     "data": {
      "text/plain": [
       "0.009902951079421667"
      ]
     },
     "execution_count": 28,
     "metadata": {},
     "output_type": "execute_result"
    }
   ],
   "source": [
    "# problem 1\n",
    "# P(swine_flue|test positive)\n",
    "(1/10000)/((1/10000)*0.99 + (9999/10000) * 0.01)"
   ]
  },
  {
   "cell_type": "code",
   "execution_count": 29,
   "metadata": {},
   "outputs": [
    {
     "data": {
      "text/plain": [
       "0.33557046979865773"
      ]
     },
     "execution_count": 29,
     "metadata": {},
     "output_type": "execute_result"
    }
   ],
   "source": [
    "# problem 2\n",
    "(1/200)/((1/200)*0.99 + (199/200) * 0.01)"
   ]
  },
  {
   "cell_type": "code",
   "execution_count": 31,
   "metadata": {},
   "outputs": [
    {
     "data": {
      "text/plain": [
       "0.47058823529411764"
      ]
     },
     "execution_count": 31,
     "metadata": {},
     "output_type": "execute_result"
    }
   ],
   "source": [
    "# problem 4a\n",
    "(0.8*0.5)/(0.90*0.5 + 0.8*0.5)"
   ]
  },
  {
   "cell_type": "code",
   "execution_count": 33,
   "metadata": {},
   "outputs": [
    {
     "data": {
      "text/plain": [
       "0.6666666666666666"
      ]
     },
     "execution_count": 33,
     "metadata": {},
     "output_type": "execute_result"
    }
   ],
   "source": [
    "# problem 4b\n",
    "(0.2*0.5)/((0.10)*0.5 +(0.20)*0.5)"
   ]
  },
  {
   "cell_type": "code",
   "execution_count": 35,
   "metadata": {},
   "outputs": [
    {
     "data": {
      "text/plain": [
       "0.16"
      ]
     },
     "execution_count": 35,
     "metadata": {},
     "output_type": "execute_result"
    }
   ],
   "source": [
    "#problem 5\n",
    "# P(A|B) = P(B|A) * P(A) / P(B) = \n",
    "(0.08 * 0.1)/0.05"
   ]
  },
  {
   "cell_type": "code",
   "execution_count": 38,
   "metadata": {},
   "outputs": [
    {
     "data": {
      "text/plain": [
       "0.10204081632653063"
      ]
     },
     "execution_count": 38,
     "metadata": {},
     "output_type": "execute_result"
    }
   ],
   "source": [
    "# problem 6\n",
    "(0.9 * 0.01) / ((0.9 * 0.01) + (0.08 * 0.99))"
   ]
  },
  {
   "cell_type": "markdown",
   "metadata": {},
   "source": [
    "# Problem 2 Breakout Room 1\n",
    "Now imagine that you went to a friend’s wedding in Canada recently, and (for the purposes of this\n",
    "exercise) it is know that 1 in 200 people who visited Canada recently come back with swine flu.\n",
    "Given the same test result as above, what should your revised estimate be for the probability you\n",
    "have the disease?"
   ]
  },
  {
   "cell_type": "markdown",
   "metadata": {},
   "source": [
    "# Problem 3 Breakout Room 2\n",
    "Imagine that, while in Canada, you also took a side trip to Las Vegas, to pay homage to the\n",
    "TV show CSI. Late one night in a bar you meet a guy who claims to know that in the casino at\n",
    "the Tropicana there are two sorts of slot machines: one that pays out 10% of the time, and one\n",
    "that pays out 20% of the time [note these numbers may not be very realistic]. The two types\n",
    "of machines are coloured red and blue. The only problem is, the guy is so drunk he can’t quite\n",
    "remember which colour corresponds to which kind of machine. Unfortunately, that night the guy\n",
    "becomes the vic in the next CSI episode, so you are unable to ask him again when he’s sober."
   ]
  },
  {
   "cell_type": "markdown",
   "metadata": {},
   "source": [
    "# Problem 4 Breakout Room 2\n",
    "Next day you go to the Tropicana to find out more. You find a red and a blue machine side by side.\n",
    "You toss a coin to decide which machine to try first; based on this you then put the coin into the\n",
    "red machine. It doesn’t pay out. How should you update your estimate of the probability that this\n",
    "is the machine you’re interested in? What if it had paid out - what would be your new estimate\n",
    "then"
   ]
  },
  {
   "cell_type": "markdown",
   "metadata": {},
   "source": [
    "# Problem 5 Breakout Room 3\n",
    "In a particular pain clinic, 10% of patients are prescribed narcotic pain killers. Overall, five percent of the clinic’s patients are addicted to narcotics (including pain killers and illegal substances). Out of all the people prescribed pain pills, 8% are addicts. If a patient is an addict, what is the probability that they will be prescribed pain pills?"
   ]
  },
  {
   "cell_type": "markdown",
   "metadata": {},
   "source": [
    "# Problem 6 Breakout Room 3\n",
    "Given the following statistics, what is the probability that a woman has cancer if she has a positive mammogram result?\n",
    "\n",
    "1. One percent of women over 50 have breast cancer.\n",
    "2. Ninety percent of women who have breast cancer test positive on mammograms.\n",
    "3. Eight percent of women will have false positives."
   ]
  }
 ],
 "metadata": {
  "kernelspec": {
   "display_name": "Python 3",
   "language": "python",
   "name": "python3"
  },
  "language_info": {
   "codemirror_mode": {
    "name": "ipython",
    "version": 3
   },
   "file_extension": ".py",
   "mimetype": "text/x-python",
   "name": "python",
   "nbconvert_exporter": "python",
   "pygments_lexer": "ipython3",
   "version": "3.6.5"
  }
 },
 "nbformat": 4,
 "nbformat_minor": 2
}
