{
 "cells": [
  {
   "cell_type": "markdown",
   "metadata": {},
   "source": [
    "# Bayes' Theorem - Lab\n",
    "\n",
    "## Introduction\n",
    "\n",
    "In this lab, we shall try to put some of the formulas to practice that we came across with in the previous lesson. \n",
    "\n",
    "## Objectives\n",
    "* Understand and describe the Bayesian theorem from conditional probabilities\n",
    "* Describe the roles of Prior, Likehood and Posterior components of Bayes Theorem \n",
    "* Understand and perform simple applications of Bayes Theorem for sensitivity and specificity\n",
    "\n",
    "## Exercise 1\n",
    "### If a single card is drawn from a standard deck of playing cards, What is the probability of seeing a king ?"
   ]
  },
  {
   "cell_type": "code",
   "execution_count": 1,
   "metadata": {},
   "outputs": [
    {
     "data": {
      "text/plain": [
       "0.07692307692307693"
      ]
     },
     "execution_count": 1,
     "metadata": {},
     "output_type": "execute_result"
    }
   ],
   "source": [
    "# Your solution\n",
    "p_king = 4/52\n",
    "p_king"
   ]
  },
  {
   "cell_type": "markdown",
   "metadata": {},
   "source": [
    "### If evidence is provided (for instance, someone looks at the card) that the single card is a **face card**, what would be the posterior probability according to Bayes theorem?"
   ]
  },
  {
   "cell_type": "code",
   "execution_count": 2,
   "metadata": {},
   "outputs": [
    {
     "name": "stdout",
     "output_type": "stream",
     "text": [
      "P(king|facecard)=0.3333333333333333\n"
     ]
    }
   ],
   "source": [
    "# Your Solution\n",
    "problem = \"P(king|facecard)\"\n",
    "prob = 4/12\n",
    "print(\"{}={}\".format(problem, prob))"
   ]
  },
  {
   "cell_type": "markdown",
   "metadata": {},
   "source": [
    "## Exercise 2\n",
    "#### 1. A couple has two children, the older of which is a boy. What is the probability that they have two boys?\n",
    "#### 2. A couple has two children, one of which is a boy. What is the probability that they have two boys?"
   ]
  },
  {
   "cell_type": "code",
   "execution_count": 3,
   "metadata": {},
   "outputs": [],
   "source": [
    "# Explain events as:\n",
    "# A = both children are boys\n",
    "# B = older child is a boy \n",
    "# C = One of the children is a boy "
   ]
  },
  {
   "cell_type": "code",
   "execution_count": 7,
   "metadata": {},
   "outputs": [
    {
     "data": {
      "text/plain": [
       "0.5"
      ]
     },
     "execution_count": 7,
     "metadata": {},
     "output_type": "execute_result"
    }
   ],
   "source": [
    "# Part 1\n",
    "# Your solution\n",
    "# P(C|A)\n",
    "prob_two_boys_given_oldest = 1/2\n",
    "prob_two_boys_given_oldest"
   ]
  },
  {
   "cell_type": "code",
   "execution_count": 9,
   "metadata": {},
   "outputs": [
    {
     "data": {
      "text/plain": [
       "0.3333333333333333"
      ]
     },
     "execution_count": 9,
     "metadata": {},
     "output_type": "execute_result"
    }
   ],
   "source": [
    "# Part 2 \n",
    "# Your solution\n",
    "# P(A|C)\n",
    "prob_two_boys_given_one = 1/3\n",
    "prob_two_boys_given_one"
   ]
  },
  {
   "cell_type": "markdown",
   "metadata": {},
   "source": [
    "## Exercise 3 - Bayesian Disease Diagnosis\n",
    "\n",
    "[Visit this link for an insight into Bayesian Disease Daignosis](http://doingbayesiandataanalysis.blogspot.com/2013/01/bayesian-disease-diagnosis-with.html)\n",
    "\n"
   ]
  },
  {
   "cell_type": "markdown",
   "metadata": {},
   "source": [
    "A disease test is advertised as being 99% accurate \n",
    "\n",
    "* If a patient has the disease,they  will test positive 99% of the time.\n",
    "\n",
    "* If you don't have the disease, they will test negative 99% of the time. \n",
    "\n",
    "* 1% of all people have this disease \n",
    "\n",
    "#### Now a patient tests positive, what is the probability that you actually have the disease?"
   ]
  },
  {
   "cell_type": "code",
   "execution_count": 12,
   "metadata": {},
   "outputs": [
    {
     "data": {
      "text/plain": [
       "0.5"
      ]
     },
     "execution_count": 12,
     "metadata": {},
     "output_type": "execute_result"
    }
   ],
   "source": [
    "# By Bayes' Theorem, the probability you have the disease is\n",
    "\n",
    "#P(D|Pos) = P(Pos|D)* P(D) / P(Pos) \n",
    "\n",
    "# P(Pos) is calculated as :\n",
    "# You either have the disease and tested incorrectly (0.1*0.99), \n",
    "# or you have the disease and tested correctly (0.99 *0.1). \n",
    "\n",
    "\n",
    "p_pos = (0.01*0.99) + (0.99 *0.01)\n",
    "\n",
    "p_d_given_pos = 0.01 * 0.99/p_pos\n",
    "p_d_given_pos"
   ]
  },
  {
   "cell_type": "markdown",
   "metadata": {},
   "source": [
    "## Summary \n",
    "\n",
    "In this lab, we saw a few simple examples of Bayesian logic and how we can add prior information to our calculation, in order to update our beliefs about the certain events. Bayesian logic works in numerous ways and it is not within the scope of this section to give you a deep dive in complex Bayesian problems. You are advised to re-visit the provided links when you have a better understanding of Bayesian inference. "
   ]
  },
  {
   "cell_type": "markdown",
   "metadata": {},
   "source": [
    "# Problem 1\n",
    "You go to see the doctor about an ingrowing toenail. The doctor selects you at random to have\n",
    "a blood test for swine flu, which for the purposes of this exercise we will say is currently suspected\n",
    "to affect 1 in 10,000 people in Australia. The test is 99% accurate, in the sense that the probability\n",
    "of a false positive is 1%. The probability of a false negative is zero. You test positive. What is the\n",
    "new probability that you have swine flu?"
   ]
  },
  {
   "cell_type": "markdown",
   "metadata": {},
   "source": [
    "# Problem 2\n",
    "Now imagine that you went to a friend’s wedding in Canada recently, and (for the purposes of this\n",
    "exercise) it is know that 1 in 200 people who visited Canada recently come back with swine flu.\n",
    "Given the same test result as above, what should your revised estimate be for the probability you\n",
    "have the disease?"
   ]
  },
  {
   "cell_type": "markdown",
   "metadata": {},
   "source": [
    "# Problem 3\n",
    "Imagine that, while in Canada, you also took a side trip to Las Vegas, to pay homage to the\n",
    "TV show CSI. Late one night in a bar you meet a guy who claims to know that in the casino at\n",
    "the Tropicana there are two sorts of slot machines: one that pays out 10% of the time, and one\n",
    "that pays out 20% of the time [note these numbers may not be very realistic]. The two types\n",
    "of machines are coloured red and blue. The only problem is, the guy is so drunk he can’t quite\n",
    "remember which colour corresponds to which kind of machine. Unfortunately, that night the guy\n",
    "becomes the vic in the next CSI episode, so you are unable to ask him again when he’s sober."
   ]
  },
  {
   "cell_type": "markdown",
   "metadata": {},
   "source": [
    "# Problem 4\n",
    "Next day you go to the Tropicana to find out more. You find a red and a blue machine side by side.\n",
    "You toss a coin to decide which machine to try first; based on this you then put the coin into the\n",
    "red machine. It doesn’t pay out. How should you update your estimate of the probability that this\n",
    "is the machine you’re interested in? What if it had paid out - what would be your new estimate\n",
    "then"
   ]
  },
  {
   "cell_type": "markdown",
   "metadata": {},
   "source": [
    "# Problem 5\n",
    "In a particular pain clinic, 10% of patients are prescribed narcotic pain killers. Overall, five percent of the clinic’s patients are addicted to narcotics (including pain killers and illegal substances). Out of all the people prescribed pain pills, 8% are addicts. If a patient is an addict, what is the probability that they will be prescribed pain pills?"
   ]
  },
  {
   "cell_type": "markdown",
   "metadata": {},
   "source": [
    "# Problem 6\n",
    "Given the following statistics, what is the probability that a woman has cancer if she has a positive mammogram result?\n",
    "\n",
    "1. One percent of women over 50 have breast cancer.\n",
    "2. Ninety percent of women who have breast cancer test positive on mammograms.\n",
    "3. Eight percent of women will have false positives."
   ]
  },
  {
   "cell_type": "code",
   "execution_count": null,
   "metadata": {},
   "outputs": [],
   "source": []
  }
 ],
 "metadata": {
  "kernelspec": {
   "display_name": "Python 3",
   "language": "python",
   "name": "python3"
  },
  "language_info": {
   "codemirror_mode": {
    "name": "ipython",
    "version": 3
   },
   "file_extension": ".py",
   "mimetype": "text/x-python",
   "name": "python",
   "nbconvert_exporter": "python",
   "pygments_lexer": "ipython3",
   "version": "3.6.5"
  }
 },
 "nbformat": 4,
 "nbformat_minor": 2
}
